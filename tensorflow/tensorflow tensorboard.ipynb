{
 "cells": [
  {
   "cell_type": "markdown",
   "metadata": {
    "deletable": true,
    "editable": true
   },
   "source": [
    "## 可视化训练"
   ]
  },
  {
   "cell_type": "markdown",
   "metadata": {},
   "source": [
    "`name_scope`使用可以在Graph中体现tensor之间的包含关系。\n",
    "\n",
    "`histogram_summary`用于生成分布图。\n",
    "\n",
    "`scalar_summary`用于记录存数值。\n",
    "\n",
    "最后`merged = tf.merge_all_summaries()`合并所有的记录给session会掉。\n",
    "\n",
    "`tf.train.SummaryWriter`用于写入日志文件。"
   ]
  },
  {
   "cell_type": "code",
   "execution_count": 9,
   "metadata": {
    "collapsed": true,
    "deletable": true,
    "editable": true
   },
   "outputs": [],
   "source": [
    "import tensorflow as tf\n",
    "from tensorflow.python.ops.logging_ops import histogram_summary, scalar_summary\n",
    "import numpy as np"
   ]
  },
  {
   "cell_type": "code",
   "execution_count": 26,
   "metadata": {
    "collapsed": false,
    "deletable": true,
    "editable": true
   },
   "outputs": [
    {
     "name": "stdout",
     "output_type": "stream",
     "text": [
      "WARNING:tensorflow:From <ipython-input-26-9779a41d19ae>:11 in add_layer.: histogram_summary (from tensorflow.python.ops.logging_ops) is deprecated and will be removed after 2016-11-30.\n",
      "Instructions for updating:\n",
      "Please switch to tf.summary.histogram. Note that tf.summary.histogram uses the node name instead of the tag. This means that TensorFlow will automatically de-duplicate summary names based on their scope.\n",
      "WARNING:tensorflow:From <ipython-input-26-9779a41d19ae>:16 in add_layer.: histogram_summary (from tensorflow.python.ops.logging_ops) is deprecated and will be removed after 2016-11-30.\n",
      "Instructions for updating:\n",
      "Please switch to tf.summary.histogram. Note that tf.summary.histogram uses the node name instead of the tag. This means that TensorFlow will automatically de-duplicate summary names based on their scope.\n",
      "WARNING:tensorflow:From <ipython-input-26-9779a41d19ae>:27 in add_layer.: histogram_summary (from tensorflow.python.ops.logging_ops) is deprecated and will be removed after 2016-11-30.\n",
      "Instructions for updating:\n",
      "Please switch to tf.summary.histogram. Note that tf.summary.histogram uses the node name instead of the tag. This means that TensorFlow will automatically de-duplicate summary names based on their scope.\n",
      "WARNING:tensorflow:From <ipython-input-26-9779a41d19ae>:11 in add_layer.: histogram_summary (from tensorflow.python.ops.logging_ops) is deprecated and will be removed after 2016-11-30.\n",
      "Instructions for updating:\n",
      "Please switch to tf.summary.histogram. Note that tf.summary.histogram uses the node name instead of the tag. This means that TensorFlow will automatically de-duplicate summary names based on their scope.\n",
      "WARNING:tensorflow:From <ipython-input-26-9779a41d19ae>:16 in add_layer.: histogram_summary (from tensorflow.python.ops.logging_ops) is deprecated and will be removed after 2016-11-30.\n",
      "Instructions for updating:\n",
      "Please switch to tf.summary.histogram. Note that tf.summary.histogram uses the node name instead of the tag. This means that TensorFlow will automatically de-duplicate summary names based on their scope.\n",
      "WARNING:tensorflow:From <ipython-input-26-9779a41d19ae>:27 in add_layer.: histogram_summary (from tensorflow.python.ops.logging_ops) is deprecated and will be removed after 2016-11-30.\n",
      "Instructions for updating:\n",
      "Please switch to tf.summary.histogram. Note that tf.summary.histogram uses the node name instead of the tag. This means that TensorFlow will automatically de-duplicate summary names based on their scope.\n",
      "WARNING:tensorflow:From <ipython-input-26-9779a41d19ae>:54 in <module>.: scalar_summary (from tensorflow.python.ops.logging_ops) is deprecated and will be removed after 2016-11-30.\n",
      "Instructions for updating:\n",
      "Please switch to tf.summary.scalar. Note that tf.summary.scalar uses the node name instead of the tag. This means that TensorFlow will automatically de-duplicate summary names based on the scope they are created in. Also, passing a tensor or list of tags to a scalar summary op is no longer supported.\n",
      "WARNING:tensorflow:From <ipython-input-26-9779a41d19ae>:60 in <module>.: __init__ (from tensorflow.python.training.summary_io) is deprecated and will be removed after 2016-11-30.\n",
      "Instructions for updating:\n",
      "Please switch to tf.summary.FileWriter. The interface and behavior is the same; this is just a rename.\n"
     ]
    }
   ],
   "source": [
    "# 添加神经层 add_layer\n",
    "def add_layer(inputs , \n",
    "              in_size, \n",
    "              out_size,\n",
    "              n_layer, \n",
    "              activation_function=None):\n",
    "    ## add one more layer and return the output of this layer\n",
    "    layer_name='layer%s'%n_layer\n",
    "    with tf.name_scope('layer'):\n",
    "         with tf.name_scope('weights'):\n",
    "              Weights= tf.Variable(tf.random_normal([in_size, out_size]),name='W')\n",
    "              histogram_summary(layer_name+'/weights',Weights)\n",
    "              # tf.summary.histogram(layer_name + '/weights', Weights) # tensorflow >= 0.12\n",
    "\n",
    "         with tf.name_scope('biases'):\n",
    "              biases = tf.Variable(tf.zeros([1,out_size])+0.1, name='b')\n",
    "              histogram_summary(layer_name+'/biase',biases)\n",
    "              # tf.summary.histogram(layer_name + '/biases', biases)  # Tensorflow >= 0.12\n",
    "\n",
    "         with tf.name_scope('Wx_plus_b'):\n",
    "              Wx_plus_b = tf.add(tf.matmul(inputs,Weights), biases)\n",
    "\n",
    "         if activation_function is None:\n",
    "            outputs=Wx_plus_b\n",
    "         else:\n",
    "            outputs= activation_function(Wx_plus_b)\n",
    "\n",
    "         histogram_summary(layer_name+'/outputs',outputs)\n",
    "         # tf.summary.histogram(layer_name + '/outputs', outputs) # Tensorflow >= 0.12\n",
    "\n",
    "    return outputs\n",
    "\n",
    "# 输入值\n",
    "with tf.name_scope(\"inputs\"):\n",
    "    xs = tf.placeholder(tf.float32, [None, 1], name=\"x_input\")\n",
    "    ys = tf.placeholder(tf.float32, [None, 1], name=\"y_input\")\n",
    "\n",
    "# 建造神经网络\n",
    "x_data = np.linspace(-1, 1, 300)[:, np.newaxis]\n",
    "# 方差0.05, x_data.shape数据形式\n",
    "noise = np.random.normal(0, 0.05, x_data.shape)\n",
    "# x_data 二次方\n",
    "y_data = np.square(x_data) - 0.5 + noise\n",
    "\n",
    "# 输入层 -> 隐藏层 -> 输出层\n",
    "\n",
    "# 定义隐藏层 1 输入层神经元数量， 输出层神经元数量，隐藏层神经元数量\n",
    "l1 = add_layer(xs, 1, 10, n_layer=1, activation_function=tf.nn.relu)\n",
    "# 定义输出层\n",
    "prediction = add_layer(l1, 10, 1, n_layer=2, activation_function=None)\n",
    "\n",
    "with tf.name_scope(\"loss\"):\n",
    "    # 预测误差 二者差的平方和再求平均值\n",
    "    loss = tf.reduce_mean(tf.reduce_sum(tf.square(ys - prediction), reduction_indices=[1]))\n",
    "    scalar_summary('loss', loss)\n",
    "with tf.name_scope(\"train\"):\n",
    "    # 提供学习效率0.1，通常小于1， 最小化误差\n",
    "    train_step = tf.train.GradientDescentOptimizer(0.1).minimize(loss)\n",
    "\n",
    "with tf.Session() as sess:\n",
    "    merged = tf.merge_all_summaries()\n",
    "    writer = tf.train.SummaryWriter(\"logs/\", sess.graph)\n",
    "    sess.run(tf.global_variables_initializer())\n",
    "\n",
    "    for i in range(1000):\n",
    "        feed_dict = {xs:x_data, ys: y_data}\n",
    "        sess.run(train_step, feed_dict=feed_dict)\n",
    "        if i % 50 == 0:\n",
    "            result = sess.run(merged, feed_dict=feed_dict)\n",
    "            writer.add_summary(result, i)"
   ]
  },
  {
   "cell_type": "code",
   "execution_count": null,
   "metadata": {
    "collapsed": true,
    "deletable": true,
    "editable": true
   },
   "outputs": [],
   "source": []
  }
 ],
 "metadata": {
  "kernelspec": {
   "display_name": "Python 2",
   "language": "python",
   "name": "python2"
  },
  "language_info": {
   "codemirror_mode": {
    "name": "ipython",
    "version": 2
   },
   "file_extension": ".py",
   "mimetype": "text/x-python",
   "name": "python",
   "nbconvert_exporter": "python",
   "pygments_lexer": "ipython2",
   "version": "2.7.12"
  }
 },
 "nbformat": 4,
 "nbformat_minor": 0
}
