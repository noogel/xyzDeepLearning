{
 "cells": [
  {
   "cell_type": "code",
   "execution_count": 1,
   "metadata": {},
   "outputs": [
    {
     "name": "stdout",
     "output_type": "stream",
     "text": [
      "Extracting MNIST_data/train-images-idx3-ubyte.gz\n",
      "Extracting MNIST_data/train-labels-idx1-ubyte.gz\n",
      "Extracting MNIST_data/t10k-images-idx3-ubyte.gz\n",
      "Extracting MNIST_data/t10k-labels-idx1-ubyte.gz\n"
     ]
    }
   ],
   "source": [
    "import tensorflow as tf\n",
    "from tensorflow.examples.tutorials.mnist import input_data\n",
    "import numpy as np\n",
    "\n",
    "mnist = input_data.read_data_sets(\"MNIST_data\", one_hot=True)"
   ]
  },
  {
   "cell_type": "code",
   "execution_count": 2,
   "metadata": {
    "collapsed": true
   },
   "outputs": [],
   "source": [
    "def add_layer(inputs, in_size, out_size, activation_function=None):\n",
    "    # 在生成初始参数时，随机变量(normal distribution)会比全部为0要好很多\n",
    "    # 所以我们这里的weights为一个in_size行, out_size列的随机变量矩阵。\n",
    "    weights = tf.Variable(tf.random_normal([in_size, out_size]))\n",
    "    # biases的推荐值不为0，所以我们这里是在0向量的基础上又加了0.1\n",
    "    biases = tf.Variable(tf.zeros([1, out_size]) + 0.1)\n",
    "    wx_plus_b = tf.matmul(inputs, weights) + biases\n",
    "    if activation_function is None:\n",
    "        outputs = wx_plus_b\n",
    "    else:\n",
    "        outputs = activation_function(wx_plus_b)\n",
    "    return outputs\n",
    "\n",
    "\n",
    "def compute_accuracy(v_xs, v_ys):\n",
    "    global prediction\n",
    "    # 生成预测值 10个0~1之间的数\n",
    "    y_pre = sess.run(prediction, feed_dict={xs: v_xs})\n",
    "    # 最大值的位置是不是1\n",
    "    correct_prediction = tf.equal(tf.argmax(y_pre, 1), tf.argmax(v_ys, 1))\n",
    "    # 计算准确率\n",
    "    accuracy = tf.reduce_mean(tf.cast(correct_prediction, tf.float32))\n",
    "    result = sess.run(accuracy, feed_dict={xs: v_xs, ys: v_ys})\n",
    "    return result"
   ]
  },
  {
   "cell_type": "code",
   "execution_count": 4,
   "metadata": {},
   "outputs": [
    {
     "name": "stdout",
     "output_type": "stream",
     "text": [
      "0.115\n",
      "0.7192\n",
      "0.7909\n",
      "0.8245\n",
      "0.839\n",
      "0.8471\n",
      "0.8513\n",
      "0.8617\n",
      "0.8685\n",
      "0.8688\n",
      "0.8759\n",
      "0.8772\n",
      "0.879\n",
      "0.884\n",
      "0.8845\n",
      "0.883\n",
      "0.8816\n",
      "0.8858\n",
      "0.8905\n",
      "0.8906\n",
      "end!\n"
     ]
    }
   ],
   "source": [
    "xs = tf.placeholder(tf.float32, [None, 784])  # 28 * 28\n",
    "ys = tf.placeholder(tf.float32, [None, 10])\n",
    "\n",
    "# output\n",
    "prediction = add_layer(xs, 784, 10, activation_function=tf.nn.softmax)\n",
    "\n",
    "# loss函数（即最优化目标函数）选用交叉熵函数。交叉熵用来衡量预测值和真实值的相似程度，如果完全相同，它们的交叉熵等于零。\n",
    "cross_entropy = tf.reduce_mean(-tf.reduce_sum(ys * tf.log(prediction), reduction_indices=[1]))\n",
    "\n",
    "train_step = tf.train.GradientDescentOptimizer(0.8).minimize(cross_entropy)\n",
    "\n",
    "with tf.Session() as sess:\n",
    "    sess.run(tf.global_variables_initializer())\n",
    "    for i in range(1000):\n",
    "        batch_xs, batch_ys = mnist.train.next_batch(200)\n",
    "        sess.run(train_step, feed_dict={xs: batch_xs, ys: batch_ys})\n",
    "        if i % 50 == 0:\n",
    "            print compute_accuracy(mnist.test.images, mnist.test.labels)\n",
    "print \"end!\""
   ]
  },
  {
   "cell_type": "code",
   "execution_count": null,
   "metadata": {
    "collapsed": true
   },
   "outputs": [],
   "source": []
  }
 ],
 "metadata": {
  "kernelspec": {
   "display_name": "Python 2",
   "language": "python",
   "name": "python2"
  },
  "language_info": {
   "codemirror_mode": {
    "name": "ipython",
    "version": 2
   },
   "file_extension": ".py",
   "mimetype": "text/x-python",
   "name": "python",
   "nbconvert_exporter": "python",
   "pygments_lexer": "ipython2",
   "version": "2.7.12"
  }
 },
 "nbformat": 4,
 "nbformat_minor": 1
}
