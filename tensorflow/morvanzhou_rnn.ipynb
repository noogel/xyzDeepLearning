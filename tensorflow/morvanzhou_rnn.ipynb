{
 "cells": [
  {
   "cell_type": "code",
   "execution_count": 1,
   "metadata": {},
   "outputs": [
    {
     "name": "stdout",
     "output_type": "stream",
     "text": [
      "Extracting ./mnist/train-images-idx3-ubyte.gz\n",
      "Extracting ./mnist/train-labels-idx1-ubyte.gz\n",
      "Extracting ./mnist/t10k-images-idx3-ubyte.gz\n",
      "Extracting ./mnist/t10k-labels-idx1-ubyte.gz\n",
      "(55000, 784)\n",
      "(55000, 10)\n"
     ]
    },
    {
     "data": {
      "image/png": "[encoded data removed]",
      "text/plain": [
       "<matplotlib.figure.Figure at 0x7fb020a73dd0>"
      ]
     },
     "metadata": {},
     "output_type": "display_data"
    },
    {
     "name": "stdout",
     "output_type": "stream",
     "text": [
      "('train loss: 2.2957', '| test accuracy: 0.22')\n",
      "('train loss: 0.6108', '| test accuracy: 0.49')\n",
      "('train loss: 0.5796', '| test accuracy: 0.62')\n",
      "('train loss: 0.3000', '| test accuracy: 0.69')\n",
      "('train loss: 0.1571', '| test accuracy: 0.74')\n",
      "('train loss: 0.2407', '| test accuracy: 0.78')\n",
      "('train loss: 0.1143', '| test accuracy: 0.80')\n",
      "('train loss: 0.1526', '| test accuracy: 0.82')\n",
      "('train loss: 0.1265', '| test accuracy: 0.83')\n",
      "('train loss: 0.1615', '| test accuracy: 0.85')\n",
      "('train loss: 0.0926', '| test accuracy: 0.86')\n",
      "('train loss: 0.0752', '| test accuracy: 0.87')\n",
      "('train loss: 0.1163', '| test accuracy: 0.87')\n",
      "('train loss: 0.1396', '| test accuracy: 0.88')\n",
      "('train loss: 0.0507', '| test accuracy: 0.89')\n",
      "('train loss: 0.0638', '| test accuracy: 0.89')\n",
      "('train loss: 0.0584', '| test accuracy: 0.90')\n",
      "('train loss: 0.0398', '| test accuracy: 0.90')\n",
      "('train loss: 0.0669', '| test accuracy: 0.90')\n",
      "('train loss: 0.0836', '| test accuracy: 0.91')\n",
      "('train loss: 0.0593', '| test accuracy: 0.91')\n",
      "('train loss: 0.0345', '| test accuracy: 0.91')\n",
      "('train loss: 0.0237', '| test accuracy: 0.92')\n",
      "('train loss: 0.0474', '| test accuracy: 0.92')\n",
      "('train loss: 0.0485', '| test accuracy: 0.92')\n",
      "('train loss: 0.0506', '| test accuracy: 0.92')\n",
      "('train loss: 0.0151', '| test accuracy: 0.92')\n",
      "('train loss: 0.0613', '| test accuracy: 0.93')\n",
      "('train loss: 0.0508', '| test accuracy: 0.93')\n",
      "('train loss: 0.0412', '| test accuracy: 0.93')\n",
      "('train loss: 0.0384', '| test accuracy: 0.93')\n",
      "('train loss: 0.0266', '| test accuracy: 0.93')\n",
      "('train loss: 0.0060', '| test accuracy: 0.93')\n",
      "('train loss: 0.0419', '| test accuracy: 0.93')\n",
      "('train loss: 0.0492', '| test accuracy: 0.94')\n",
      "('train loss: 0.0540', '| test accuracy: 0.94')\n",
      "('train loss: 0.0615', '| test accuracy: 0.94')\n",
      "('train loss: 0.0374', '| test accuracy: 0.94')\n",
      "('train loss: 0.0307', '| test accuracy: 0.94')\n",
      "('train loss: 0.0369', '| test accuracy: 0.94')\n",
      "(array([7, 2, 1, 0, 4, 1, 4, 9, 5, 9]), 'prediction number')\n",
      "(array([7, 2, 1, 0, 4, 1, 4, 9, 5, 9]), 'real number')\n"
     ]
    }
   ],
   "source": [
    "\"\"\"\n",
    "Know more, visit my Python tutorial page: https://morvanzhou.github.io/tutorials/\n",
    "My Youtube Channel: https://www.youtube.com/user/MorvanZhou\n",
    "Dependencies:\n",
    "tensorflow: 1.1.0\n",
    "matplotlib\n",
    "numpy\n",
    "\"\"\"\n",
    "import tensorflow as tf\n",
    "from tensorflow.examples.tutorials.mnist import input_data\n",
    "import numpy as np\n",
    "import matplotlib.pyplot as plt\n",
    "\n",
    "tf.set_random_seed(1)\n",
    "np.random.seed(1)\n",
    "\n",
    "# Hyper Parameters\n",
    "BATCH_SIZE = 200\n",
    "TIME_STEP = 28          # rnn time step / image height\n",
    "INPUT_SIZE = 28         # rnn input size / image width\n",
    "LR = 0.01               # learning rate\n",
    "\n",
    "# data\n",
    "mnist = input_data.read_data_sets('./mnist', one_hot=True)              # they has been normalized to range (0,1)\n",
    "test_x = mnist.test.images[:2000]\n",
    "test_y = mnist.test.labels[:2000]\n",
    "\n",
    "# plot one example\n",
    "print(mnist.train.images.shape)     # (55000, 28 * 28)\n",
    "print(mnist.train.labels.shape)   # (55000, 10)\n",
    "plt.imshow(mnist.train.images[0].reshape((28, 28)), cmap='gray')\n",
    "plt.title('%i' % np.argmax(mnist.train.labels[0]))\n",
    "plt.show()\n",
    "\n",
    "# tensorflow placeholders\n",
    "tf_x = tf.placeholder(tf.float32, [None, TIME_STEP * INPUT_SIZE])       # shape(batch, 784)\n",
    "image = tf.reshape(tf_x, [-1, TIME_STEP, INPUT_SIZE])                   # (batch, height, width, channel)\n",
    "tf_y = tf.placeholder(tf.int32, [None, 10])                             # input y\n",
    "\n",
    "# RNN\n",
    "rnn_cell = tf.contrib.rnn.BasicLSTMCell(num_units=64)\n",
    "outputs, (h_c, h_n) = tf.nn.dynamic_rnn(\n",
    "    rnn_cell,                   # cell you have chosen\n",
    "    image,                      # input\n",
    "    initial_state=None,         # the initial hidden state\n",
    "    dtype=tf.float32,           # must given if set initial_state = None\n",
    "    time_major=False,           # False: (batch, time step, input); True: (time step, batch, input)\n",
    ")\n",
    "output = tf.layers.dense(outputs[:, -1, :], 10)              # output based on the last output step\n",
    "\n",
    "loss = tf.losses.softmax_cross_entropy(onehot_labels=tf_y, logits=output)           # compute cost\n",
    "train_op = tf.train.AdamOptimizer(LR).minimize(loss)\n",
    "\n",
    "accuracy = tf.metrics.accuracy(          # return (acc, update_op), and create 2 local variables\n",
    "    labels=tf.argmax(tf_y, axis=1), predictions=tf.argmax(output, axis=1),)[1]\n",
    "\n",
    "sess = tf.Session()\n",
    "init_op = tf.group(tf.global_variables_initializer(), tf.local_variables_initializer()) # the local var is for accuracy_op\n",
    "sess.run(init_op)     # initialize var in graph\n",
    "\n",
    "for step in range(2000):    # training\n",
    "    b_x, b_y = mnist.train.next_batch(BATCH_SIZE)\n",
    "    _, loss_ = sess.run([train_op, loss], {tf_x: b_x, tf_y: b_y})\n",
    "    if step % 50 == 0:      # testing\n",
    "        accuracy_ = sess.run(accuracy, {tf_x: test_x, tf_y: test_y})\n",
    "        print('train loss: %.4f' % loss_, '| test accuracy: %.2f' % accuracy_)\n",
    "\n",
    "# print 10 predictions from test data\n",
    "test_output = sess.run(output, {tf_x: test_x[:10]})\n",
    "pred_y = np.argmax(test_output, 1)\n",
    "print(pred_y, 'prediction number')\n",
    "print(np.argmax(test_y[:10], 1), 'real number')"
   ]
  },
  {
   "cell_type": "code",
   "execution_count": null,
   "metadata": {
    "collapsed": true
   },
   "outputs": [],
   "source": []
  }
 ],
 "metadata": {
  "kernelspec": {
   "display_name": "Python 2",
   "language": "python",
   "name": "python2"
  },
  "language_info": {
   "codemirror_mode": {
    "name": "ipython",
    "version": 2
   },
   "file_extension": ".py",
   "mimetype": "text/x-python",
   "name": "python",
   "nbconvert_exporter": "python",
   "pygments_lexer": "ipython2",
   "version": "2.7.12"
  }
 },
 "nbformat": 4,
 "nbformat_minor": 2
}
