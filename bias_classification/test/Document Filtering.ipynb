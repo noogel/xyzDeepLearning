{
 "cells": [
  {
   "cell_type": "code",
   "execution_count": 2,
   "metadata": {
    "collapsed": true
   },
   "outputs": [],
   "source": [
    "import re\n",
    "import math"
   ]
  },
  {
   "cell_type": "code",
   "execution_count": 3,
   "metadata": {
    "collapsed": false
   },
   "outputs": [],
   "source": [
    "def getwords(doc):\n",
    "    \"\"\"分裂字符串用\"\"\"\n",
    "    splitter = re.compile('\\\\W*')\n",
    "    words = [val.lower() for val in splitter.split(doc) if len(val) > 2 and len(val) < 20]\n",
    "    return {key: 1 for  key in words}"
   ]
  },
  {
   "cell_type": "code",
   "execution_count": 4,
   "metadata": {
    "collapsed": false
   },
   "outputs": [],
   "source": [
    "class Classifier(object):\n",
    "    \n",
    "    def __init__(self, getfeatures, filename=None):\n",
    "        # 统计特征/分类组合的数量\n",
    "        self.fc = {}\n",
    "        # 统计每个分类中的文档数量\n",
    "        self.cc = {}\n",
    "        self.getfeatures = getfeatures\n",
    "        \n",
    "        self.thresholds = {}\n",
    "    \n",
    "    def incf(self, f, cat):\n",
    "        \"\"\"增加对特征/分类组合的计数值\"\"\"\n",
    "        self.fc.setdefault(f, {})\n",
    "        self.fc[f].setdefault(cat, 0)\n",
    "        self.fc[f][cat] += 1\n",
    "    \n",
    "    def incc(self, cat):\n",
    "        \"\"\"增加对某一分类的计数值\"\"\"\n",
    "        self.cc.setdefault(cat, 0)\n",
    "        self.cc[cat] += 1\n",
    "    \n",
    "    def fcount(self, f, cat):\n",
    "        \"\"\"某一特征出现于某一分类中的次数\"\"\"\n",
    "        if f in self.fc and cat in self.fc[f]:\n",
    "            return float(self.fc[f][cat])\n",
    "        return 0.0\n",
    "    \n",
    "    def catcount(self, cat):\n",
    "        \"\"\"属于某一分类的内容项数量\"\"\"\n",
    "        if cat in self.cc:\n",
    "            return float(self.cc[cat])\n",
    "        return 0.0\n",
    "    \n",
    "    def totalcount(self):\n",
    "        \"\"\"所有内容项的数量\"\"\"\n",
    "        return sum(self.cc.values())\n",
    "    \n",
    "    def categories(self):\n",
    "        \"\"\"所有分类的列表\"\"\"\n",
    "        return self.cc.keys()\n",
    "    \n",
    "    def train(self, item, cat):\n",
    "        \"\"\"增加训练数据\"\"\"\n",
    "        features = self.getfeatures(item)\n",
    "        # 针对该分类为每个特征增加计数值\n",
    "        for f in features:\n",
    "            self.incf(f, cat)\n",
    "        # 增加针对该分类的计数值\n",
    "        self.incc(cat)\n",
    "\n",
    "    def fprob(self, f, cat):\n",
    "        \"\"\"计算特征在分类下的概率\"\"\"\n",
    "        if self.catcount(cat) == 0: return 0\n",
    "        return self.fcount(f, cat) / self.catcount(cat)\n",
    "    \n",
    "    def weightedprob(self, f, cat, prf, weight=1.0, ap=0.5):\n",
    "        \"\"\"计算加权概率\"\"\"\n",
    "        basicprob=prf(f, cat)\n",
    "        totals = sum([self.fcount(f,c) for c in self.categories()])\n",
    "        bp = ((weight * ap) + (totals * basicprob)) / (weight + totals)\n",
    "        return bp\n",
    "    \n",
    "    def setthreshold(self, cat, t):\n",
    "        \"\"\"设置阀值\"\"\"\n",
    "        self.thresholds[cat] = t\n",
    "    \n",
    "    def getthreshold(self, cat):\n",
    "        \"\"\"获取阀值\"\"\"\n",
    "        if cat not in self.thresholds: return 1.0\n",
    "        return self.thresholds[cat]\n",
    "\n",
    "    def classify(self, item, default=None):\n",
    "        \"\"\"获取特征的在不同分类下的最大概率\"\"\"\n",
    "        probs = {}\n",
    "        max = 0.0\n",
    "        for cat in self.categories():\n",
    "            probs[cat] = self.prob(item, cat)\n",
    "            if probs[cat] > max:\n",
    "                max= probs[cat]\n",
    "                best = cat\n",
    "        \n",
    "        for cat in probs:\n",
    "            if cat == best: continue\n",
    "            if probs[cat] * self.getthreshold(best) > probs[best]: return default, max\n",
    "        \n",
    "        return best, max"
   ]
  },
  {
   "cell_type": "code",
   "execution_count": 5,
   "metadata": {
    "collapsed": false,
    "scrolled": true
   },
   "outputs": [],
   "source": [
    "cl = Classifier(getwords)"
   ]
  },
  {
   "cell_type": "code",
   "execution_count": 6,
   "metadata": {
    "collapsed": true
   },
   "outputs": [],
   "source": [
    "# cl.train(\"the quick brown fox jumps over the lazy dog\", \"good\")"
   ]
  },
  {
   "cell_type": "code",
   "execution_count": 7,
   "metadata": {
    "collapsed": true
   },
   "outputs": [],
   "source": [
    "# cl.train(\"make quick money in the online casino\", \"bad\")"
   ]
  },
  {
   "cell_type": "code",
   "execution_count": 8,
   "metadata": {
    "collapsed": false
   },
   "outputs": [],
   "source": [
    "# cl.fcount(\"quick\", \"good\")"
   ]
  },
  {
   "cell_type": "code",
   "execution_count": 9,
   "metadata": {
    "collapsed": false
   },
   "outputs": [],
   "source": [
    "# cl.fcount(\"quick\", \"bad\")"
   ]
  },
  {
   "cell_type": "code",
   "execution_count": 10,
   "metadata": {
    "collapsed": true
   },
   "outputs": [],
   "source": [
    "def sampletrain(cl):\n",
    "    cl.train(\"Nobody owns the water.\", \"good\")\n",
    "    cl.train(\"the quick rabbit jumps fences\", \"good\")\n",
    "    cl.train(\"buy pharmaceuticals now\", \"bad\")\n",
    "    cl.train(\"make quick money at the online casino\", \"bad\")\n",
    "    cl.train(\"the quick brown fox jumps\", \"good\")"
   ]
  },
  {
   "cell_type": "code",
   "execution_count": 11,
   "metadata": {
    "collapsed": true
   },
   "outputs": [],
   "source": [
    "sampletrain(cl)"
   ]
  },
  {
   "cell_type": "code",
   "execution_count": 12,
   "metadata": {
    "collapsed": false
   },
   "outputs": [
    {
     "data": {
      "text/plain": [
       "0.6666666666666666"
      ]
     },
     "execution_count": 12,
     "metadata": {},
     "output_type": "execute_result"
    }
   ],
   "source": [
    "cl.fprob(\"quick\", \"good\")"
   ]
  },
  {
   "cell_type": "code",
   "execution_count": 13,
   "metadata": {
    "collapsed": false,
    "scrolled": true
   },
   "outputs": [
    {
     "data": {
      "text/plain": [
       "({'brown': {'good': 1},\n",
       "  'buy': {'bad': 1},\n",
       "  'casino': {'bad': 1},\n",
       "  'fences': {'good': 1},\n",
       "  'fox': {'good': 1},\n",
       "  'jumps': {'good': 2},\n",
       "  'make': {'bad': 1},\n",
       "  'money': {'bad': 1},\n",
       "  'nobody': {'good': 1},\n",
       "  'now': {'bad': 1},\n",
       "  'online': {'bad': 1},\n",
       "  'owns': {'good': 1},\n",
       "  'pharmaceuticals': {'bad': 1},\n",
       "  'quick': {'bad': 1, 'good': 2},\n",
       "  'rabbit': {'good': 1},\n",
       "  'the': {'bad': 1, 'good': 3},\n",
       "  'water': {'good': 1}},\n",
       " {'bad': 2, 'good': 3})"
      ]
     },
     "execution_count": 13,
     "metadata": {},
     "output_type": "execute_result"
    }
   ],
   "source": [
    "cl.fc, cl.cc"
   ]
  },
  {
   "cell_type": "code",
   "execution_count": 14,
   "metadata": {
    "collapsed": false
   },
   "outputs": [
    {
     "data": {
      "text/plain": [
       "(0.0, 0.5)"
      ]
     },
     "execution_count": 14,
     "metadata": {},
     "output_type": "execute_result"
    }
   ],
   "source": [
    "cl.fprob(\"money\", \"good\"), cl.fprob(\"money\", \"bad\")"
   ]
  },
  {
   "cell_type": "code",
   "execution_count": 15,
   "metadata": {
    "collapsed": false
   },
   "outputs": [
    {
     "data": {
      "text/plain": [
       "0.25"
      ]
     },
     "execution_count": 15,
     "metadata": {},
     "output_type": "execute_result"
    }
   ],
   "source": [
    "cl.weightedprob(\"money\", \"good\", cl.fprob)"
   ]
  },
  {
   "cell_type": "code",
   "execution_count": 16,
   "metadata": {
    "collapsed": true
   },
   "outputs": [],
   "source": [
    "sampletrain(cl)"
   ]
  },
  {
   "cell_type": "code",
   "execution_count": 17,
   "metadata": {
    "collapsed": false
   },
   "outputs": [
    {
     "data": {
      "text/plain": [
       "0.16666666666666666"
      ]
     },
     "execution_count": 17,
     "metadata": {},
     "output_type": "execute_result"
    }
   ],
   "source": [
    "cl.weightedprob(\"money\", \"good\", cl.fprob)"
   ]
  },
  {
   "cell_type": "code",
   "execution_count": 18,
   "metadata": {
    "collapsed": true
   },
   "outputs": [],
   "source": [
    "############################################################"
   ]
  },
  {
   "cell_type": "code",
   "execution_count": 19,
   "metadata": {
    "collapsed": true
   },
   "outputs": [],
   "source": [
    "class Naivebayes(Classifier):\n",
    "    def docprob(self, item, cat):\n",
    "        \"\"\"计算所有特征概率相乘的整体概率\"\"\"\n",
    "        features = self.getfeatures(item)\n",
    "        p = 1\n",
    "        for f in features: p *= self.weightedprob(f, cat, self.fprob)\n",
    "        return p\n",
    "    \n",
    "    def prob(self, item, cat):\n",
    "        \"\"\"计算分类的概率\"\"\"\n",
    "        catprob = self.catcount(cat) / self.totalcount()\n",
    "        docprob = self.docprob(item, cat)\n",
    "        return docprob * catprob"
   ]
  },
  {
   "cell_type": "code",
   "execution_count": 20,
   "metadata": {
    "collapsed": true
   },
   "outputs": [],
   "source": [
    "nb = Naivebayes(getwords)"
   ]
  },
  {
   "cell_type": "code",
   "execution_count": 21,
   "metadata": {
    "collapsed": true
   },
   "outputs": [],
   "source": [
    "sampletrain(nb)"
   ]
  },
  {
   "cell_type": "code",
   "execution_count": 22,
   "metadata": {
    "collapsed": false
   },
   "outputs": [
    {
     "data": {
      "text/plain": [
       "0.15624999999999997"
      ]
     },
     "execution_count": 22,
     "metadata": {},
     "output_type": "execute_result"
    }
   ],
   "source": [
    "nb.prob(\"quick rabbit\", \"good\")"
   ]
  },
  {
   "cell_type": "code",
   "execution_count": 23,
   "metadata": {
    "collapsed": false
   },
   "outputs": [
    {
     "data": {
      "text/plain": [
       "0.05"
      ]
     },
     "execution_count": 23,
     "metadata": {},
     "output_type": "execute_result"
    }
   ],
   "source": [
    "nb.prob(\"quick rabbit\", \"bad\")"
   ]
  },
  {
   "cell_type": "code",
   "execution_count": 24,
   "metadata": {
    "collapsed": false
   },
   "outputs": [
    {
     "data": {
      "text/plain": [
       "('good', 0.15624999999999997)"
      ]
     },
     "execution_count": 24,
     "metadata": {},
     "output_type": "execute_result"
    }
   ],
   "source": [
    "nb.classify(\"quick rabbit\", default=\"unknown\")"
   ]
  },
  {
   "cell_type": "code",
   "execution_count": 25,
   "metadata": {
    "collapsed": false
   },
   "outputs": [
    {
     "data": {
      "text/plain": [
       "('bad', 0.1)"
      ]
     },
     "execution_count": 25,
     "metadata": {},
     "output_type": "execute_result"
    }
   ],
   "source": [
    "nb.classify(\"quick money\", default=\"unknown\")"
   ]
  },
  {
   "cell_type": "code",
   "execution_count": 26,
   "metadata": {
    "collapsed": true
   },
   "outputs": [],
   "source": [
    "nb.setthreshold(\"bad\", 3.0)"
   ]
  },
  {
   "cell_type": "code",
   "execution_count": 27,
   "metadata": {
    "collapsed": false,
    "scrolled": true
   },
   "outputs": [
    {
     "data": {
      "text/plain": [
       "('good', 0.15624999999999997)"
      ]
     },
     "execution_count": 27,
     "metadata": {},
     "output_type": "execute_result"
    }
   ],
   "source": [
    "nb.classify(\"quick rabbit\", default=\"unknown\")"
   ]
  },
  {
   "cell_type": "code",
   "execution_count": 28,
   "metadata": {
    "collapsed": false
   },
   "outputs": [
    {
     "data": {
      "text/plain": [
       "('unknown', 0.1)"
      ]
     },
     "execution_count": 28,
     "metadata": {},
     "output_type": "execute_result"
    }
   ],
   "source": [
    "nb.classify(\"quick money\", default=\"unknown\")"
   ]
  },
  {
   "cell_type": "code",
   "execution_count": 30,
   "metadata": {
    "collapsed": true
   },
   "outputs": [],
   "source": [
    "###########################################################"
   ]
  },
  {
   "cell_type": "code",
   "execution_count": 31,
   "metadata": {
    "collapsed": true
   },
   "outputs": [],
   "source": [
    "# 1. 写淘宝联盟数据抓取爬虫 抓 分类 + 商品名\n",
    "# 2. 准备jieba分词处理商品名的切分\n",
    "# 3. web展现并人工筛选一次降低错误率\n",
    "# 4. 导入数据的标题输出分类，判断准确率\n",
    "# 5. 数据的web可视化功能"
   ]
  },
  {
   "cell_type": "code",
   "execution_count": null,
   "metadata": {
    "collapsed": true
   },
   "outputs": [],
   "source": [
    ""
   ]
  }
 ],
 "metadata": {
  "kernelspec": {
   "display_name": "Python 2",
   "language": "python",
   "name": "python2"
  },
  "language_info": {
   "codemirror_mode": {
    "name": "ipython",
    "version": 2.0
   },
   "file_extension": ".py",
   "mimetype": "text/x-python",
   "name": "python",
   "nbconvert_exporter": "python",
   "pygments_lexer": "ipython2",
   "version": "2.7.12"
  }
 },
 "nbformat": 4,
 "nbformat_minor": 0
}