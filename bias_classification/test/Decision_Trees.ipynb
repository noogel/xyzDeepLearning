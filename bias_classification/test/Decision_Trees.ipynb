{
 "cells": [
  {
   "cell_type": "code",
   "execution_count": 1,
   "metadata": {
    "collapsed": true
   },
   "outputs": [],
   "source": [
    "class Decision(object):\n",
    "    def __init__(self, col=-1, value=None, results=None, tb=None, fb=None):\n",
    "        # 待检验的判断条件\n",
    "        self.col = col\n",
    "        # 当前匹配值\n",
    "        self.value = value\n",
    "        # 保存当前分支的结果\n",
    "        self.results = results\n",
    "        # true节点指向节点\n",
    "        self.tb = tb\n",
    "        # false节点指向节点\n",
    "        self.fb = fb"
   ]
  },
  {
   "cell_type": "code",
   "execution_count": 2,
   "metadata": {},
   "outputs": [],
   "source": [
    "my_data = [['slashdot', 'USA', 'yes', 18, 'None'],\n",
    "           ['google', 'France', 'yes', 23, 'Premium'],\n",
    "           ['digg', 'USA', 'yes', 24, 'Basic'],\n",
    "           ['kiwitobes', 'France', 'yes', 23, 'Basic'],\n",
    "           ['google', 'UK', 'no', 21, 'Premium'],\n",
    "           ['(direct)', 'New Zealand', 'no', 12, 'None'],\n",
    "           ['(direct', 'UK', 'no', 21, 'Basic'],\n",
    "           ['google', 'USA', 'no', 24, 'Premium'],\n",
    "           ['slashdot', 'France', 'yes', 19, 'None'],\n",
    "           ['digg', 'USA', 'no', 18, 'None'],\n",
    "           ['google', 'UK', 'no', '18', 'None'],\n",
    "           ['kiwitobes', 'UK', 'no', 18, 'None'],\n",
    "           ['digg', 'New Zealand', 'yes', 12, 'Basic'],\n",
    "           ['google', 'UK', 'yes', 18, 'Basic'],\n",
    "           ['kiwitobes', 'France', 'yes', 19, 'Basic']\n",
    "]"
   ]
  },
  {
   "cell_type": "code",
   "execution_count": 3,
   "metadata": {},
   "outputs": [],
   "source": [
    "def divideset(rows, column, value):\n",
    "    \"\"\"\n",
    "    对数据集按列进行拆分\n",
    "    :param rows: \n",
    "    :param column: \n",
    "    :param value: \n",
    "    :return: \n",
    "    \"\"\"\n",
    "    if isinstance(value, int) or isinstance(value, float):\n",
    "        split_funcion = lambda row: row[column] >= value\n",
    "    else:\n",
    "        split_funcion = lambda row: row[column] == value\n",
    "    \n",
    "    set1 = [row for row in rows if split_funcion(row)]\n",
    "    set2 = [row for row in rows if not split_funcion(row)]\n",
    "    return set1, set2"
   ]
  },
  {
   "cell_type": "code",
   "execution_count": 4,
   "metadata": {},
   "outputs": [
    {
     "data": {
      "text/plain": [
       "([['slashdot', 'USA', 'yes', 18, 'None'],\n  ['google', 'France', 'yes', 23, 'Premium'],\n  ['digg', 'USA', 'yes', 24, 'Basic'],\n  ['kiwitobes', 'France', 'yes', 23, 'Basic'],\n  ['slashdot', 'France', 'yes', 19, 'None'],\n  ['digg', 'New Zealand', 'yes', 12, 'Basic'],\n  ['google', 'UK', 'yes', 18, 'Basic'],\n  ['kiwitobes', 'France', 'yes', 19, 'Basic']],\n [['google', 'UK', 'no', 21, 'Premium'],\n  ['(direct)', 'New Zealand', 'no', 12, 'None'],\n  ['(direct', 'UK', 'no', 21, 'Basic'],\n  ['google', 'USA', 'no', 24, 'Premium'],\n  ['digg', 'USA', 'no', 18, 'None'],\n  ['google', 'UK', 'no', '18', 'None'],\n  ['kiwitobes', 'UK', 'no', 18, 'None']])"
      ]
     },
     "execution_count": 4,
     "metadata": {},
     "output_type": "execute_result"
    }
   ],
   "source": [
    "divideset(my_data, 2, 'yes')"
   ]
  },
  {
   "cell_type": "code",
   "execution_count": 5,
   "metadata": {},
   "outputs": [],
   "source": [
    "def uniquecounts(rows):\n",
    "    \"\"\"\n",
    "    对各种可能的结果进行计数\n",
    "    :param rows: \n",
    "    :return: \n",
    "    \"\"\"\n",
    "    results = {}\n",
    "    for row in rows:\n",
    "        r = row[len(row) - 1]\n",
    "        results.setdefault(r, 0)\n",
    "        results[r] += 1\n",
    "    return results"
   ]
  },
  {
   "cell_type": "code",
   "execution_count": 6,
   "metadata": {},
   "outputs": [],
   "source": [
    "def giniimpurity(rows):\n",
    "    \"\"\"\n",
    "    计算随机防止的数据项出现于错误分类中的概率\n",
    "    :param rows: \n",
    "    :return: \n",
    "    \"\"\"\n",
    "    total = len(rows)\n",
    "    counts = uniquecounts(rows)\n",
    "    imp = 0\n",
    "    for k1 in counts:\n",
    "        p1 = float(counts[k1]) / total\n",
    "        for k2 in counts:\n",
    "            if k1 == k2: continue\n",
    "            p2 = float(counts[k2]) / total\n",
    "            imp += p1 * p2\n",
    "    return imp"
   ]
  },
  {
   "cell_type": "code",
   "execution_count": 7,
   "metadata": {},
   "outputs": [],
   "source": [
    "def entropy(rows):\n",
    "    \"\"\"\n",
    "    熵\n",
    "    :param rows: \n",
    "    :return: \n",
    "    \"\"\"\n",
    "    from math import log\n",
    "    log2 = lambda x: log(x) / log(2)\n",
    "    results = uniquecounts(rows)\n",
    "    ent = 0.0\n",
    "    for r in results.keys():\n",
    "        p = float(results[r]) / len(rows)\n",
    "        ent -= p * log2(p)\n",
    "    return ent"
   ]
  },
  {
   "cell_type": "code",
   "execution_count": null,
   "metadata": {},
   "outputs": [],
   "source": [
    ""
   ]
  },
  {
   "cell_type": "code",
   "execution_count": null,
   "metadata": {},
   "outputs": [],
   "source": [
    ""
   ]
  },
  {
   "cell_type": "code",
   "execution_count": null,
   "metadata": {},
   "outputs": [],
   "source": [
    ""
   ]
  },
  {
   "cell_type": "code",
   "execution_count": null,
   "metadata": {},
   "outputs": [],
   "source": [
    ""
   ]
  }
 ],
 "metadata": {
  "kernelspec": {
   "display_name": "Python 2",
   "language": "python",
   "name": "python2"
  },
  "language_info": {
   "codemirror_mode": {
    "name": "ipython",
    "version": 2.0
   },
   "file_extension": ".py",
   "mimetype": "text/x-python",
   "name": "python",
   "nbconvert_exporter": "python",
   "pygments_lexer": "ipython2",
   "version": "2.7.6"
  }
 },
 "nbformat": 4,
 "nbformat_minor": 0
}